{
 "cells": [
  {
   "cell_type": "markdown",
   "id": "5cf59d2a",
   "metadata": {},
   "source": [
    "# Data Science Tools and Ecosystem"
   ]
  },
  {
   "cell_type": "code",
   "execution_count": 30,
   "id": "ca995c83",
   "metadata": {},
   "outputs": [],
   "source": [
    "# Execute it as a markdown cell\n",
    "# Data Science Tools and Ecosystem"
   ]
  },
  {
   "cell_type": "markdown",
   "id": "755c428f",
   "metadata": {},
   "source": [
    "In this notebook, Data Science Tools and Ecosystem are summarized"
   ]
  },
  {
   "cell_type": "code",
   "execution_count": 31,
   "id": "09114ec9",
   "metadata": {},
   "outputs": [],
   "source": [
    "# Execute it as a markdown cell\n",
    "# In this notebook, Data Science Tools and Ecosystem are summarized"
   ]
  },
  {
   "cell_type": "markdown",
   "id": "4921295d",
   "metadata": {},
   "source": [
    "Some of the popular languages that Data Scientists use are:\n",
    "1. RStudio\n",
    "2. Jupyter\n",
    "3. SQL\n",
    "4. JavaScript"
   ]
  },
  {
   "cell_type": "code",
   "execution_count": null,
   "id": "b3c79150",
   "metadata": {},
   "outputs": [],
   "source": [
    "# Execute it as a markdown cell\n",
    "# Some of the popular languages that Data Scientists use are:\n",
    "1. RStudio\n",
    "1. Jupyter\n",
    "3. SQL\n",
    "4. JavaScript"
   ]
  },
  {
   "cell_type": "markdown",
   "id": "0dab73b8",
   "metadata": {},
   "source": [
    "Some of the commonly used libraries used by Data Scientists include:\n",
    "1. TensorFlow\n",
    "2. NumPy\n",
    "3. SciPy\n",
    "4. Pandas\n",
    "5. Matplotlib\n",
    "6. SciKit-Learn"
   ]
  },
  {
   "cell_type": "code",
   "execution_count": null,
   "id": "13a2fffe",
   "metadata": {},
   "outputs": [],
   "source": [
    "# Execute it as a markdown cell\n",
    "# Some of the commonly used libraries used by Data Scientists include:\n",
    "1. TensorFlow\n",
    "2. NumPy\n",
    "3. SciPy\n",
    "4. Pandas\n",
    "5. Matplotlib\n",
    "6. SciKit-Learn\n"
   ]
  },
  {
   "cell_type": "markdown",
   "id": "3c0ebfbf",
   "metadata": {},
   "source": [
    "Data Science Tools\n",
    "| Open Source Tools | Function |\n",
    "| -------------| ------ |\n",
    "| Jupyter Notebooks | Unify documentation, code, output from the code, shell commands, and visualizations in a single document |\n",
    "| RStudio | Tightly integrated into the Jupyter tool and provides optimal user experience. RStudio unifies programming, execution, debugging, remote data access, data exploration, and visualization into one tool |\n",
    "| Apache Spark | Offering the unique feature of working with distributed datasets, data-frames, and Apache-specific algorithms, this tool is useful to data scientists who are interested in machine learning and text mining. |\n"
   ]
  },
  {
   "cell_type": "code",
   "execution_count": null,
   "id": "a5972733",
   "metadata": {},
   "outputs": [],
   "source": [
    "# Execute it as a markdown cell\n",
    "# Data Science Tools\n",
    "| Open Source Tools | Function |\n",
    "| -------------| ------ |\n",
    "| Jupyter Notebooks | Unify documentation, code, output from the code, shell commands, and visualizations in a single document |\n",
    "| RStudio | Tightly integrated into the Jupyter tool and provides optimal user experience. RStudio unifies programming, execution, debugging, remote data access, data exploration, and visualization into one tool |\n",
    "| Apache Spark | Offering the unique feature of working with distributed datasets, data-frames, and Apache-specific algorithms, this tool is useful to data scientists who are interested in machine learning and text mining. |"
   ]
  },
  {
   "cell_type": "markdown",
   "id": "c78b28d3",
   "metadata": {},
   "source": [
    "### Below are a few examples of evaluating arithmetic expressions in Jupyter"
   ]
  },
  {
   "cell_type": "code",
   "execution_count": 32,
   "id": "78449d69",
   "metadata": {},
   "outputs": [],
   "source": [
    "# Execute it as a markdown cell\n",
    "### Below are a few examples of evaluating arithmetic expressions in Jupyter"
   ]
  },
  {
   "cell_type": "code",
   "execution_count": 16,
   "id": "a5592337",
   "metadata": {},
   "outputs": [
    {
     "data": {
      "text/plain": [
       "34"
      ]
     },
     "execution_count": 16,
     "metadata": {},
     "output_type": "execute_result"
    }
   ],
   "source": [
    "# This a simple arithmetic expression to mutiply then add integers\n",
    "a = 7\n",
    "b = 6\n",
    "c = 4\n",
    "\n",
    "(a*c)+b"
   ]
  },
  {
   "cell_type": "code",
   "execution_count": 15,
   "id": "85908085",
   "metadata": {},
   "outputs": [
    {
     "name": "stdout",
     "output_type": "stream",
     "text": [
      "5.85\n"
     ]
    }
   ],
   "source": [
    "# This will convert 351 minutes to hours by diving by 60\n",
    "total_minutes = 351\n",
    "hours = total_minutes / 60\n",
    "time = \"{}\".format(hours)\n",
    "print(time)"
   ]
  },
  {
   "cell_type": "markdown",
   "id": "4715d61a",
   "metadata": {},
   "source": [
    "Objective:\n",
    "\n",
    "From this practice, I've learned how to run Jupyter Notebook such as:\n",
    "* User Markdown\n",
    "* Use Code\n",
    "* Create a Table\n",
    "* Calculate simple arithmetic"
   ]
  },
  {
   "cell_type": "code",
   "execution_count": null,
   "id": "135201d5",
   "metadata": {},
   "outputs": [],
   "source": [
    "# Execute it as a markdown cell\n",
    "# Objective:\n",
    "# From this practice, I've learned how to run Jupyter Notebook such as:\n",
    "* User Markdown\n",
    "* Use Code\n",
    "* Create a Table\n",
    "* Calculate simple arithmetic"
   ]
  },
  {
   "cell_type": "markdown",
   "id": "f69f86e3",
   "metadata": {},
   "source": [
    "## Author\n",
    "Atika Isti Aditya Putri"
   ]
  },
  {
   "cell_type": "code",
   "execution_count": 34,
   "id": "0bce6ac6",
   "metadata": {},
   "outputs": [],
   "source": [
    "# Execute it as a markdown cell\n",
    "# Author\n",
    "# Atika Isti Aditya Putri"
   ]
  }
 ],
 "metadata": {
  "kernelspec": {
   "display_name": "Python 3 (ipykernel)",
   "language": "python",
   "name": "python3"
  },
  "language_info": {
   "codemirror_mode": {
    "name": "ipython",
    "version": 3
   },
   "file_extension": ".py",
   "mimetype": "text/x-python",
   "name": "python",
   "nbconvert_exporter": "python",
   "pygments_lexer": "ipython3",
   "version": "3.10.9"
  }
 },
 "nbformat": 4,
 "nbformat_minor": 5
}
